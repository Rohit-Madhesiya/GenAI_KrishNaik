{
  "nbformat": 4,
  "nbformat_minor": 0,
  "metadata": {
    "colab": {
      "provenance": [],
      "authorship_tag": "ABX9TyND5Z7fpz3KR9452T0W096j",
      "include_colab_link": true
    },
    "kernelspec": {
      "name": "python3",
      "display_name": "Python 3"
    },
    "language_info": {
      "name": "python"
    }
  },
  "cells": [
    {
      "cell_type": "markdown",
      "metadata": {
        "id": "view-in-github",
        "colab_type": "text"
      },
      "source": [
        "<a href=\"https://colab.research.google.com/github/Rohit-Madhesiya/GenAI_KrishNaik/blob/main/Parts_of_Speech_Tagging.ipynb\" target=\"_parent\"><img src=\"https://colab.research.google.com/assets/colab-badge.svg\" alt=\"Open In Colab\"/></a>"
      ]
    },
    {
      "cell_type": "markdown",
      "source": [
        "**Parts of Speech Tags:** \\\n",
        "CC coordinating conjunction \\\n",
        "CD cardinal digit \\\n",
        "DT determiner \\\n",
        "EX existential there `(like: \"there is\" - think of it like \"there exists\")` \\\n",
        "FW foreign word \\\n",
        "IN preposition/subordinating conjunction \\\n",
        "JJ adjective - `big` \\\n",
        "JJR adjective, comparative - `bigger` \\\n",
        "JJS adjective, superlative - `biggest` \\\n",
        "LS list marker `1)` \\\n",
        "MD modal - `could`, `will` \\\n",
        "NN noun, singular - `desk` \\\n",
        "NNS noud, plural - `desks` \\\n",
        "NNP proper noun, singular - `Harrison` \\\n",
        "NNPS proper noun, plural - `Americans` \\\n",
        "PDT predeterminer - `all the kids` \\\n",
        "POS possessive ending - `parent's` \\\n",
        "PRP personal pronoun - `I`, `he`, `she` \\\n",
        "PRP`$` possessive pronoun - `my`, `his`, `hers` \\\n",
        "RB adverb - `very, silently` \\\n",
        "RBR adverb, comparative - `better` \\\n",
        "RBS adverb, superlative - `best` \\\n",
        "RP particle - `give up` \\\n",
        "TO - `to go to the store` \\\n",
        "UH interjection - `errrrrrrm` \\\n",
        "VB verb, base form - `take` \\\n",
        "VBD verb, past tense - `took` \\\n",
        "VBG verb, gerund/present participle - `taking` \\\n",
        "VBN verb past participle - `taken` \\\n",
        "VBP verb, sing, present, non-3d - `take` \\\n",
        "VBZ verb, 3rs person sing, present - `takes` \\\n",
        "WDT wh-determiner - `which` \\\n",
        "WP wh-pronoun - `who`,`what` \\\n",
        "WP`$` possessive wh-pronoun, eg-`whose` \\\n",
        "WRB wh-adverb, eg-`where`,`when` \\\n",
        "\n"
      ],
      "metadata": {
        "id": "yXSz9YGKJk5S"
      }
    },
    {
      "cell_type": "code",
      "execution_count": 1,
      "metadata": {
        "id": "5bXSabrZI80X"
      },
      "outputs": [],
      "source": [
        "# Speech of Dr. APJ Abdul Kalam\n",
        "paragraph=\"\"\"Greeting everyone. Today, I am here to deliver a speech on APJ Abdul Kalam.\n",
        "Dr APJ Abdul Kalam’s full name was Avul Pakir Zainuldeben Abdul Kalam,\n",
        "very few people know him by his full name as he was mostly addressed as ‘Missile Man of India’\n",
        "and ‘People’s President’. He was born into a very poor family in Rameswaram on October 15, 1931.\n",
        "Since childhood, he enjoyed flying, and was equally curious to know how birds fly in the air?\n",
        "He was very intelligent and enjoyed reading, but his family did not have sufficient income for his school fees,\n",
        "so to support his education, he would wake up early in the morning and ride a bicycle 3 kilometres from home to collect newspapers and sell them.\n",
        "He was admitted to St. Joseph's College, Tiruchirapalli,\n",
        "and later he went on to complete a degree in physics in 1954\n",
        "and then studied at the Madras Institute of Technology and graduated in aeronautical engineering in 1955.\n",
        "Since his childhood, Dr Abdul Alam wanted to be a pilot but couldn’t make his dream come true.\n",
        "He learned from his mistakes and accomplished numerous achievements in his life.\n",
        "After completing his degree, Abdul Kalam entered the Defense Department of India.\n",
        "He has been one of the key figures in building the nuclear capabilities of India.\n",
        "APJ Abdul Kalam was appointed to the Indian Ministry of Defense as a Technical Advisor in 1992, after which he served with DRDO and ISRO,\n",
        "the country's largest organization. Considered a national hero for successful nuclear tests in 1998,\n",
        "a second successful nuclear test was conducted in Pokhran the same year under his supervision,\n",
        "after which India was included in the list of nuclear-powered nations.\n",
        "Abdul Kalam has been active in all space programs and development programs in India as a scientist.\n",
        "For developing India's Agni missile, Kalam was called 'Missile Man.'Abdul Kalam made a special technological and scientific contribution,\n",
        "for which, along with Bharat Ratna, India's highest honour, he was awarded the Padma Bhushan, Padam Vibhushan, etc.\n",
        "He was also awarded an honorary doctorate by more than 30 universities in the world for the same.\n",
        "In 2002, he was elected President of India and was the country's first scientist and non-political president.\n",
        "He visited many countries during his tenure as President and\n",
        "led India's youth through his lectures and encouraged them to move forward.\n",
        "‘My vision for India’ was a Famous Speech of APJ Abdul Kalam delivered at IIT Hyderabad in 2011,\n",
        "and is to this day my favourite speech. His far-reaching thinking gave India's growth a fresh path and became the youth's inspiration.\n",
        "Dr Abdul Kalam died on July 27, 2015, from an apparent cardiac arrest while delivering a lecture at IIM Shillong at the age of 83.\n",
        " He spent his entire life in service and inspiration for the nation and the youth, and his death is also while addressing the youth.\n",
        " His death is a never-ending loss to the country.\n",
        "\"\"\""
      ]
    },
    {
      "cell_type": "code",
      "source": [
        "import nltk\n",
        "nltk.download('punkt_tab')\n",
        "from nltk.corpus import stopwords\n",
        "nltk.download('stopwords')\n",
        "sentences=nltk.sent_tokenize(paragraph)"
      ],
      "metadata": {
        "colab": {
          "base_uri": "https://localhost:8080/"
        },
        "id": "4WrWcexzNepR",
        "outputId": "aa7edf0c-aaf9-4265-8b08-6c0a08d96118"
      },
      "execution_count": 9,
      "outputs": [
        {
          "output_type": "stream",
          "name": "stderr",
          "text": [
            "[nltk_data] Downloading package punkt_tab to /root/nltk_data...\n",
            "[nltk_data]   Package punkt_tab is already up-to-date!\n",
            "[nltk_data] Downloading package stopwords to /root/nltk_data...\n",
            "[nltk_data]   Unzipping corpora/stopwords.zip.\n"
          ]
        }
      ]
    },
    {
      "cell_type": "code",
      "source": [
        "sentences"
      ],
      "metadata": {
        "colab": {
          "base_uri": "https://localhost:8080/"
        },
        "id": "mF4DQVAPNsoF",
        "outputId": "b5c6ae6c-e187-4993-8807-fdeb96a9a799"
      },
      "execution_count": 10,
      "outputs": [
        {
          "output_type": "execute_result",
          "data": {
            "text/plain": [
              "['Greeting everyone.',\n",
              " 'Today, I am here to deliver a speech on APJ Abdul Kalam.',\n",
              " 'Dr APJ Abdul Kalam’s full name was Avul Pakir Zainuldeben Abdul Kalam, \\nvery few people know him by his full name as he was mostly addressed as ‘Missile Man of India’ \\nand ‘People’s President’.',\n",
              " 'He was born into a very poor family in Rameswaram on October 15, 1931.',\n",
              " 'Since childhood, he enjoyed flying, and was equally curious to know how birds fly in the air?',\n",
              " 'He was very intelligent and enjoyed reading, but his family did not have sufficient income for his school fees, \\nso to support his education, he would wake up early in the morning and ride a bicycle 3 kilometres from home to collect newspapers and sell them.',\n",
              " \"He was admitted to St. Joseph's College, Tiruchirapalli, \\nand later he went on to complete a degree in physics in 1954 \\nand then studied at the Madras Institute of Technology and graduated in aeronautical engineering in 1955.\",\n",
              " 'Since his childhood, Dr Abdul Alam wanted to be a pilot but couldn’t make his dream come true.',\n",
              " 'He learned from his mistakes and accomplished numerous achievements in his life.',\n",
              " 'After completing his degree, Abdul Kalam entered the Defense Department of India.',\n",
              " 'He has been one of the key figures in building the nuclear capabilities of India.',\n",
              " \"APJ Abdul Kalam was appointed to the Indian Ministry of Defense as a Technical Advisor in 1992, after which he served with DRDO and ISRO,\\nthe country's largest organization.\",\n",
              " 'Considered a national hero for successful nuclear tests in 1998, \\na second successful nuclear test was conducted in Pokhran the same year under his supervision, \\nafter which India was included in the list of nuclear-powered nations.',\n",
              " 'Abdul Kalam has been active in all space programs and development programs in India as a scientist.',\n",
              " \"For developing India's Agni missile, Kalam was called 'Missile Man.\",\n",
              " \"'Abdul Kalam made a special technological and scientific contribution, \\nfor which, along with Bharat Ratna, India's highest honour, he was awarded the Padma Bhushan, Padam Vibhushan, etc.\",\n",
              " 'He was also awarded an honorary doctorate by more than 30 universities in the world for the same.',\n",
              " \"In 2002, he was elected President of India and was the country's first scientist and non-political president.\",\n",
              " \"He visited many countries during his tenure as President and \\nled India's youth through his lectures and encouraged them to move forward.\",\n",
              " '‘My vision for India’ was a Famous Speech of APJ Abdul Kalam delivered at IIT Hyderabad in 2011, \\nand is to this day my favourite speech.',\n",
              " \"His far-reaching thinking gave India's growth a fresh path and became the youth's inspiration.\",\n",
              " 'Dr Abdul Kalam died on July 27, 2015, from an apparent cardiac arrest while delivering a lecture at IIM Shillong at the age of 83.',\n",
              " 'He spent his entire life in service and inspiration for the nation and the youth, and his death is also while addressing the youth.',\n",
              " 'His death is a never-ending loss to the country.']"
            ]
          },
          "metadata": {},
          "execution_count": 10
        }
      ]
    },
    {
      "cell_type": "code",
      "source": [
        "nltk.download('averaged_perceptron_tagger_eng')\n",
        "# find the POS Tag\n",
        "for i in range(len(sentences)):\n",
        "  words=nltk.word_tokenize(sentences[i])\n",
        "  words=[word for word in words if word not in set(stopwords.words('english'))]\n",
        "  pos_tag=nltk.pos_tag(words)\n",
        "  print(pos_tag)"
      ],
      "metadata": {
        "colab": {
          "base_uri": "https://localhost:8080/"
        },
        "id": "c-Y1URGnN1WD",
        "outputId": "44220921-c19c-48f1-aa87-be9d376a3314"
      },
      "execution_count": 12,
      "outputs": [
        {
          "output_type": "stream",
          "name": "stderr",
          "text": [
            "[nltk_data] Downloading package averaged_perceptron_tagger_eng to\n",
            "[nltk_data]     /root/nltk_data...\n",
            "[nltk_data]   Unzipping taggers/averaged_perceptron_tagger_eng.zip.\n"
          ]
        },
        {
          "output_type": "stream",
          "name": "stdout",
          "text": [
            "[('Greeting', 'VBG'), ('everyone', 'NN'), ('.', '.')]\n",
            "[('Today', 'NN'), (',', ','), ('I', 'PRP'), ('deliver', 'VBP'), ('speech', 'JJ'), ('APJ', 'NNP'), ('Abdul', 'NNP'), ('Kalam', 'NNP'), ('.', '.')]\n",
            "[('Dr', 'NNP'), ('APJ', 'NNP'), ('Abdul', 'NNP'), ('Kalam', 'NNP'), ('’', 'NNP'), ('full', 'JJ'), ('name', 'NN'), ('Avul', 'NNP'), ('Pakir', 'NNP'), ('Zainuldeben', 'NNP'), ('Abdul', 'NNP'), ('Kalam', 'NNP'), (',', ','), ('people', 'NNS'), ('know', 'VBP'), ('full', 'JJ'), ('name', 'NN'), ('mostly', 'RB'), ('addressed', 'VBD'), ('‘', 'NNP'), ('Missile', 'NNP'), ('Man', 'NNP'), ('India', 'NNP'), ('’', 'NNP'), ('‘', 'NNP'), ('People', 'NNP'), ('’', 'NNP'), ('President', 'NNP'), ('’', 'NNP'), ('.', '.')]\n",
            "[('He', 'PRP'), ('born', 'VBD'), ('poor', 'JJ'), ('family', 'NN'), ('Rameswaram', 'NNP'), ('October', 'NNP'), ('15', 'CD'), (',', ','), ('1931', 'CD'), ('.', '.')]\n",
            "[('Since', 'IN'), ('childhood', 'NN'), (',', ','), ('enjoyed', 'VBD'), ('flying', 'VBG'), (',', ','), ('equally', 'RB'), ('curious', 'JJ'), ('know', 'VBP'), ('birds', 'NNS'), ('fly', 'VB'), ('air', 'NN'), ('?', '.')]\n",
            "[('He', 'PRP'), ('intelligent', 'JJ'), ('enjoyed', 'VBD'), ('reading', 'NN'), (',', ','), ('family', 'NN'), ('sufficient', 'JJ'), ('income', 'NN'), ('school', 'NN'), ('fees', 'NNS'), (',', ','), ('support', 'NN'), ('education', 'NN'), (',', ','), ('would', 'MD'), ('wake', 'VB'), ('early', 'JJ'), ('morning', 'NN'), ('ride', 'NN'), ('bicycle', 'NN'), ('3', 'CD'), ('kilometres', 'VBZ'), ('home', 'NN'), ('collect', 'NN'), ('newspapers', 'NNS'), ('sell', 'VBP'), ('.', '.')]\n",
            "[('He', 'PRP'), ('admitted', 'VBD'), ('St.', 'NNP'), ('Joseph', 'NNP'), (\"'s\", 'POS'), ('College', 'NNP'), (',', ','), ('Tiruchirapalli', 'NNP'), (',', ','), ('later', 'RB'), ('went', 'VBD'), ('complete', 'JJ'), ('degree', 'NN'), ('physics', 'NNS'), ('1954', 'CD'), ('studied', 'VBD'), ('Madras', 'NNP'), ('Institute', 'NNP'), ('Technology', 'NNP'), ('graduated', 'VBD'), ('aeronautical', 'JJ'), ('engineering', 'NN'), ('1955', 'CD'), ('.', '.')]\n",
            "[('Since', 'IN'), ('childhood', 'NN'), (',', ','), ('Dr', 'NNP'), ('Abdul', 'NNP'), ('Alam', 'NNP'), ('wanted', 'VBD'), ('pilot', 'NN'), ('’', 'NNS'), ('make', 'VBP'), ('dream', 'NN'), ('come', 'VBN'), ('true', 'JJ'), ('.', '.')]\n",
            "[('He', 'PRP'), ('learned', 'VBD'), ('mistakes', 'NNS'), ('accomplished', 'VBN'), ('numerous', 'JJ'), ('achievements', 'NNS'), ('life', 'NN'), ('.', '.')]\n",
            "[('After', 'IN'), ('completing', 'VBG'), ('degree', 'NN'), (',', ','), ('Abdul', 'NNP'), ('Kalam', 'NNP'), ('entered', 'VBD'), ('Defense', 'NNP'), ('Department', 'NNP'), ('India', 'NNP'), ('.', '.')]\n",
            "[('He', 'PRP'), ('one', 'CD'), ('key', 'NN'), ('figures', 'NNS'), ('building', 'VBG'), ('nuclear', 'JJ'), ('capabilities', 'NNS'), ('India', 'NNP'), ('.', '.')]\n",
            "[('APJ', 'NNP'), ('Abdul', 'NNP'), ('Kalam', 'NNP'), ('appointed', 'VBD'), ('Indian', 'JJ'), ('Ministry', 'NNP'), ('Defense', 'NNP'), ('Technical', 'NNP'), ('Advisor', 'NNP'), ('1992', 'CD'), (',', ','), ('served', 'VBD'), ('DRDO', 'NNP'), ('ISRO', 'NNP'), (',', ','), ('country', 'NN'), (\"'s\", 'POS'), ('largest', 'JJS'), ('organization', 'NN'), ('.', '.')]\n",
            "[('Considered', 'VBN'), ('national', 'JJ'), ('hero', 'NN'), ('successful', 'JJ'), ('nuclear', 'JJ'), ('tests', 'NNS'), ('1998', 'CD'), (',', ','), ('second', 'JJ'), ('successful', 'JJ'), ('nuclear', 'JJ'), ('test', 'NN'), ('conducted', 'VBN'), ('Pokhran', 'NNP'), ('year', 'NN'), ('supervision', 'NN'), (',', ','), ('India', 'NNP'), ('included', 'VBD'), ('list', 'JJ'), ('nuclear-powered', 'JJ'), ('nations', 'NNS'), ('.', '.')]\n",
            "[('Abdul', 'NNP'), ('Kalam', 'NNP'), ('active', 'JJ'), ('space', 'NN'), ('programs', 'NNS'), ('development', 'NN'), ('programs', 'NNS'), ('India', 'NNP'), ('scientist', 'NN'), ('.', '.')]\n",
            "[('For', 'IN'), ('developing', 'VBG'), ('India', 'NNP'), (\"'s\", 'POS'), ('Agni', 'NNP'), ('missile', 'NN'), (',', ','), ('Kalam', 'NNP'), ('called', 'VBD'), (\"'Missile\", 'POS'), ('Man', 'NN'), ('.', '.')]\n",
            "[(\"'Abdul\", 'CD'), ('Kalam', 'NNP'), ('made', 'VBD'), ('special', 'JJ'), ('technological', 'JJ'), ('scientific', 'JJ'), ('contribution', 'NN'), (',', ','), (',', ','), ('along', 'IN'), ('Bharat', 'NNP'), ('Ratna', 'NNP'), (',', ','), ('India', 'NNP'), (\"'s\", 'POS'), ('highest', 'JJS'), ('honour', 'NN'), (',', ','), ('awarded', 'VBD'), ('Padma', 'NNP'), ('Bhushan', 'NNP'), (',', ','), ('Padam', 'NNP'), ('Vibhushan', 'NNP'), (',', ','), ('etc', 'NN'), ('.', '.')]\n",
            "[('He', 'PRP'), ('also', 'RB'), ('awarded', 'VBD'), ('honorary', 'JJ'), ('doctorate', 'NN'), ('30', 'CD'), ('universities', 'JJ'), ('world', 'NN'), ('.', '.')]\n",
            "[('In', 'IN'), ('2002', 'CD'), (',', ','), ('elected', 'VBN'), ('President', 'NNP'), ('India', 'NNP'), ('country', 'NN'), (\"'s\", 'POS'), ('first', 'JJ'), ('scientist', 'JJ'), ('non-political', 'JJ'), ('president', 'NN'), ('.', '.')]\n",
            "[('He', 'PRP'), ('visited', 'VBD'), ('many', 'JJ'), ('countries', 'NNS'), ('tenure', 'VBP'), ('President', 'NNP'), ('led', 'VBD'), ('India', 'NNP'), (\"'s\", 'POS'), ('youth', 'NN'), ('lectures', 'VBZ'), ('encouraged', 'VBN'), ('move', 'NN'), ('forward', 'RB'), ('.', '.')]\n",
            "[('‘', 'VB'), ('My', 'PRP$'), ('vision', 'NN'), ('India', 'NNP'), ('’', 'NNP'), ('Famous', 'NNP'), ('Speech', 'NNP'), ('APJ', 'NNP'), ('Abdul', 'NNP'), ('Kalam', 'NNP'), ('delivered', 'VBD'), ('IIT', 'NNP'), ('Hyderabad', 'NNP'), ('2011', 'CD'), (',', ','), ('day', 'NN'), ('favourite', 'JJ'), ('speech', 'NN'), ('.', '.')]\n",
            "[('His', 'PRP$'), ('far-reaching', 'JJ'), ('thinking', 'NN'), ('gave', 'VBD'), ('India', 'NNP'), (\"'s\", 'POS'), ('growth', 'NN'), ('fresh', 'JJ'), ('path', 'NN'), ('became', 'VBD'), ('youth', 'NNP'), (\"'s\", 'POS'), ('inspiration', 'NN'), ('.', '.')]\n",
            "[('Dr', 'NNP'), ('Abdul', 'NNP'), ('Kalam', 'NNP'), ('died', 'VBD'), ('July', 'NNP'), ('27', 'CD'), (',', ','), ('2015', 'CD'), (',', ','), ('apparent', 'JJ'), ('cardiac', 'JJ'), ('arrest', 'NN'), ('delivering', 'NN'), ('lecture', 'NN'), ('IIM', 'NNP'), ('Shillong', 'NNP'), ('age', 'NN'), ('83', 'CD'), ('.', '.')]\n",
            "[('He', 'PRP'), ('spent', 'VBD'), ('entire', 'JJ'), ('life', 'NN'), ('service', 'NN'), ('inspiration', 'NN'), ('nation', 'NN'), ('youth', 'NN'), (',', ','), ('death', 'NN'), ('also', 'RB'), ('addressing', 'VBG'), ('youth', 'NN'), ('.', '.')]\n",
            "[('His', 'PRP$'), ('death', 'NN'), ('never-ending', 'JJ'), ('loss', 'NN'), ('country', 'NN'), ('.', '.')]\n"
          ]
        }
      ]
    },
    {
      "cell_type": "code",
      "source": [
        "line=\"Taj Mahal is a beautiful Monument\"\n",
        "words=nltk.word_tokenize(line)\n",
        "pos_tag=nltk.pos_tag(words)\n",
        "print(pos_tag)\n"
      ],
      "metadata": {
        "colab": {
          "base_uri": "https://localhost:8080/"
        },
        "id": "pwk2wq9NO0Ap",
        "outputId": "cc8112c2-7e0b-4fb6-a8d0-b91255a82ba6"
      },
      "execution_count": 14,
      "outputs": [
        {
          "output_type": "stream",
          "name": "stdout",
          "text": [
            "[('Taj', 'NNP'), ('Mahal', 'NNP'), ('is', 'VBZ'), ('a', 'DT'), ('beautiful', 'JJ'), ('Monument', 'NN')]\n"
          ]
        }
      ]
    },
    {
      "cell_type": "code",
      "source": [
        "# Another Approach\n",
        "print(nltk.pos_tag(\"Taj Mahal is a beautiful Monument\".split()))"
      ],
      "metadata": {
        "colab": {
          "base_uri": "https://localhost:8080/"
        },
        "id": "jXImJa2rPPan",
        "outputId": "ea8d4a08-065d-430d-a18f-4c11ef36de7a"
      },
      "execution_count": 24,
      "outputs": [
        {
          "output_type": "stream",
          "name": "stdout",
          "text": [
            "[('Taj', 'NNP'), ('Mahal', 'NNP'), ('is', 'VBZ'), ('a', 'DT'), ('beautiful', 'JJ'), ('Monument', 'NN')]\n"
          ]
        }
      ]
    }
  ]
}